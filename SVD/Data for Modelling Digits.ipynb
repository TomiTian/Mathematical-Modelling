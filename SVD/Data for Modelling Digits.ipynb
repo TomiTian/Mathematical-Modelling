{
 "cells": [
  {
   "cell_type": "markdown",
   "id": "2a73f0ef",
   "metadata": {},
   "source": [
    "# Imports"
   ]
  },
  {
   "cell_type": "code",
   "execution_count": 230,
   "id": "fc405f18",
   "metadata": {},
   "outputs": [],
   "source": [
    "import numpy as np\n",
    "import struct\n",
    "import matplotlib.pyplot as plt\n",
    "from sklearn.metrics import accuracy_score, confusion_matrix\n",
    "from scipy.linalg import svd\n",
    "import time"
   ]
  },
  {
   "cell_type": "markdown",
   "id": "f52d4311",
   "metadata": {},
   "source": [
    "# Code"
   ]
  },
  {
   "cell_type": "code",
   "execution_count": 131,
   "id": "7e7babc8-4d57-4742-a458-87fc94aace16",
   "metadata": {
    "tags": []
   },
   "outputs": [
    {
     "data": {
      "image/png": "[encoded data removed]",
      "text/plain": [
       "<Figure size 640x480 with 1 Axes>"
      ]
     },
     "metadata": {},
     "output_type": "display_data"
    }
   ],
   "source": [
    "# Load images from the MNIST dataset\n",
    "def load_image_file(filename):\n",
    "    with open(filename, 'rb') as f:\n",
    "        # Skip the magic number and number of images\n",
    "        _, num_images = struct.unpack(\">II\", f.read(8))\n",
    "        rows, cols = struct.unpack(\">II\", f.read(8))  # Image dimensions\n",
    "        # Read image data and reshape into (num_images, rows*cols)\n",
    "        images = np.frombuffer(f.read(), dtype=np.uint8).reshape(num_images, rows * cols)\n",
    "    return {'n': num_images, 'x': images}\n",
    "\n",
    "# Load labels from the MNIST dataset\n",
    "def load_label_file(filename):\n",
    "    with open(filename, 'rb') as f:\n",
    "        # Skip the magic number and number of labels\n",
    "        _, num_labels = struct.unpack(\">II\", f.read(8))\n",
    "        # Read label data\n",
    "        labels = np.frombuffer(f.read(), dtype=np.uint8)\n",
    "    return labels\n",
    "\n",
    "# Load training and test datasets\n",
    "def load_mnist():\n",
    "    train = load_image_file('/Users/TomiTian/Downloads/train-images-idx3-ubyte')\n",
    "    test = load_image_file('/Users/TomiTian/Downloads/t10k-images-idx3-ubyte')\n",
    "    \n",
    "    train['y'] = load_label_file('/Users/TomiTian/Downloads/train-labels-idx1-ubyte')\n",
    "    test['y'] = load_label_file('/Users/TomiTian/Downloads/t10k-labels-idx1-ubyte')\n",
    "    \n",
    "    return train, test\n",
    "\n",
    "# Display an MNIST digit image\n",
    "def show_digit(arr784):\n",
    "    plt.imshow(arr784.reshape(28, 28), cmap='gray')\n",
    "    plt.axis('off')  # Hide axes for cleaner display\n",
    "    plt.show()\n",
    "\n",
    "# Load MNIST data\n",
    "train, test = load_mnist()\n",
    "\n",
    "# Display an example image (e.g., the 5th training image)\n",
    "show_digit(train['x'][5])\n"
   ]
  },
  {
   "cell_type": "code",
   "execution_count": 228,
   "id": "54bbd969",
   "metadata": {},
   "outputs": [
    {
     "ename": "NameError",
     "evalue": "name 'image' is not defined",
     "output_type": "error",
     "traceback": [
      "\u001b[0;31m---------------------------------------------------------------------------\u001b[0m",
      "\u001b[0;31mNameError\u001b[0m                                 Traceback (most recent call last)",
      "Cell \u001b[0;32mIn[228], line 1\u001b[0m\n\u001b[0;32m----> 1\u001b[0m image\n",
      "\u001b[0;31mNameError\u001b[0m: name 'image' is not defined"
     ]
    }
   ],
   "source": [
    "image"
   ]
  },
  {
   "cell_type": "code",
   "execution_count": 122,
   "id": "1aef1a60",
   "metadata": {},
   "outputs": [
    {
     "name": "stdout",
     "output_type": "stream",
     "text": [
      "Number of test labels: 10000\n",
      "Number of test images: 2\n",
      "[7 2 1 ... 4 5 6]\n"
     ]
    }
   ],
   "source": [
    "test_labels = load_label_file('/Users/TomiTian/Downloads/t10k-labels-idx1-ubyte')\n",
    "test_images = load_image_file('/Users/TomiTian/Downloads/t10k-images-idx3-ubyte')\n",
    "\n",
    "print(f\"Number of test labels: {len(test_labels)}\")\n",
    "print(f\"Number of test images: {len(test_images)}\")\n",
    "\n",
    "print(test_labels)"
   ]
  },
  {
   "cell_type": "code",
   "execution_count": 137,
   "id": "247105da",
   "metadata": {},
   "outputs": [],
   "source": [
    "train_labels = load_label_file('/Users/TomiTian/Downloads/train-labels-idx1-ubyte')"
   ]
  },
  {
   "cell_type": "code",
   "execution_count": 138,
   "id": "c7c1f11d",
   "metadata": {},
   "outputs": [],
   "source": [
    "train_images = load_image_file('/Users/TomiTian/Downloads/train-images-idx3-ubyte')"
   ]
  },
  {
   "cell_type": "code",
   "execution_count": 156,
   "id": "5c371d53",
   "metadata": {},
   "outputs": [
    {
     "data": {
      "text/plain": [
       "array([5, 0, 4, ..., 5, 6, 8], dtype=uint8)"
      ]
     },
     "execution_count": 156,
     "metadata": {},
     "output_type": "execute_result"
    }
   ],
   "source": [
    "train_labels"
   ]
  },
  {
   "cell_type": "code",
   "execution_count": 152,
   "id": "a55526d1",
   "metadata": {},
   "outputs": [
    {
     "data": {
      "text/plain": [
       "2"
      ]
     },
     "execution_count": 152,
     "metadata": {},
     "output_type": "execute_result"
    }
   ],
   "source": [
    "train['y'][5]"
   ]
  },
  {
   "cell_type": "code",
   "execution_count": 168,
   "id": "7a42c088-1721-4b20-867d-04ec1a64f690",
   "metadata": {},
   "outputs": [],
   "source": [
    "# Perform SVD on a single image and approximate it with top-r components\n",
    "def apply_svd_to_image(image, r):\n",
    "    \"\"\"\n",
    "    Takes in an image as a 1x784 array/vector and approximates it using rank-r SVD.\n",
    "    Returns the reconstructed image.The higher the r the more computation effort to classify the image\n",
    "    \"\"\"\n",
    "    # Reshape the flattened image back to 28x28, from an array of 784 elts to a 28x28 matrix\n",
    "    image_2d = image.reshape(28, 28)\n",
    "    \n",
    "    # Perform SVD\n",
    "    U, Sigma, Vt = np.linalg.svd(image_2d, full_matrices=False)\n",
    "    \n",
    "    # Reconstruct the image using the top-r components\n",
    "    U_r = U[:, :r]\n",
    "    Sigma_r = np.diag(Sigma[:r])\n",
    "    Vt_r = Vt[:r, :]\n",
    "    image_approx = np.dot(U_r, np.dot(Sigma_r, Vt_r))\n",
    "    \n",
    "    return image_approx\n",
    "\n",
    "# Display approximations of an image with different r values\n",
    "def visualize_svd(image):\n",
    "    \"\"\"\n",
    "    Visualizes the approximation of an image with varying SVD ranks (r). Higher the r the clearer it is but higher\n",
    "    \"\"\"\n",
    "    plt.figure(figsize=(10, 5))\n",
    "    r_values = [5, 10, 20, 50, 100]  # Test different ranks\n",
    "    \n",
    "    for i, r in enumerate(r_values):\n",
    "        # Apply SVD with rank-r components\n",
    "        image_approx = apply_svd_to_image(image, r)\n",
    "        \n",
    "        # Display the approximation\n",
    "        plt.subplot(1, len(r_values), i + 1)\n",
    "        plt.imshow(image_approx, cmap='gray')\n",
    "        plt.title(f'r = {r}')\n",
    "        plt.axis('off')\n",
    "    \n",
    "    plt.show()\n"
   ]
  },
  {
   "cell_type": "code",
   "execution_count": 170,
   "id": "b5056e04",
   "metadata": {},
   "outputs": [
    {
     "data": {
      "image/png": "[encoded data removed]",
      "text/plain": [
       "<Figure size 1000x500 with 5 Axes>"
      ]
     },
     "metadata": {},
     "output_type": "display_data"
    }
   ],
   "source": [
    "visualize_svd(train['x'][0])"
   ]
  },
  {
   "cell_type": "code",
   "execution_count": 166,
   "id": "dbe66efa",
   "metadata": {},
   "outputs": [
    {
     "data": {
      "image/png": "[encoded data removed]",
      "text/plain": [
       "<Figure size 1000x500 with 5 Axes>"
      ]
     },
     "metadata": {},
     "output_type": "display_data"
    },
    {
     "name": "stdout",
     "output_type": "stream",
     "text": [
      "5\n"
     ]
    },
    {
     "data": {
      "image/png": "[encoded data removed]",
      "text/plain": [
       "<Figure size 1000x500 with 5 Axes>"
      ]
     },
     "metadata": {},
     "output_type": "display_data"
    },
    {
     "name": "stdout",
     "output_type": "stream",
     "text": [
      "0\n"
     ]
    },
    {
     "data": {
      "image/png": "[encoded data removed]",
      "text/plain": [
       "<Figure size 1000x500 with 5 Axes>"
      ]
     },
     "metadata": {},
     "output_type": "display_data"
    },
    {
     "name": "stdout",
     "output_type": "stream",
     "text": [
      "4\n"
     ]
    },
    {
     "data": {
      "image/png": "[encoded data removed]",
      "text/plain": [
       "<Figure size 1000x500 with 5 Axes>"
      ]
     },
     "metadata": {},
     "output_type": "display_data"
    },
    {
     "name": "stdout",
     "output_type": "stream",
     "text": [
      "1\n"
     ]
    },
    {
     "data": {
      "image/png": "[encoded data removed]",
      "text/plain": [
       "<Figure size 1000x500 with 5 Axes>"
      ]
     },
     "metadata": {},
     "output_type": "display_data"
    },
    {
     "name": "stdout",
     "output_type": "stream",
     "text": [
      "9\n"
     ]
    },
    {
     "data": {
      "image/png": "[encoded data removed]",
      "text/plain": [
       "<Figure size 1000x500 with 5 Axes>"
      ]
     },
     "metadata": {},
     "output_type": "display_data"
    },
    {
     "name": "stdout",
     "output_type": "stream",
     "text": [
      "2\n"
     ]
    },
    {
     "data": {
      "image/png": "[encoded data removed]",
      "text/plain": [
       "<Figure size 1000x500 with 5 Axes>"
      ]
     },
     "metadata": {},
     "output_type": "display_data"
    },
    {
     "name": "stdout",
     "output_type": "stream",
     "text": [
      "1\n"
     ]
    },
    {
     "data": {
      "image/png": "[encoded data removed]",
      "text/plain": [
       "<Figure size 1000x500 with 5 Axes>"
      ]
     },
     "metadata": {},
     "output_type": "display_data"
    },
    {
     "name": "stdout",
     "output_type": "stream",
     "text": [
      "3\n"
     ]
    },
    {
     "data": {
      "image/png": "[encoded data removed]",
      "text/plain": [
       "<Figure size 1000x500 with 5 Axes>"
      ]
     },
     "metadata": {},
     "output_type": "display_data"
    },
    {
     "name": "stdout",
     "output_type": "stream",
     "text": [
      "1\n"
     ]
    },
    {
     "data": {
      "image/png": "[encoded data removed]",
      "text/plain": [
       "<Figure size 1000x500 with 5 Axes>"
      ]
     },
     "metadata": {},
     "output_type": "display_data"
    },
    {
     "name": "stdout",
     "output_type": "stream",
     "text": [
      "4\n"
     ]
    }
   ],
   "source": [
    "#Example image\n",
    "for i in range(0,10):\n",
    "    visualize_svd(train['x'][i])\n",
    "    print(train_labels[i])\n"
   ]
  },
  {
   "cell_type": "code",
   "execution_count": 229,
   "id": "ca53f0f3",
   "metadata": {},
   "outputs": [
    {
     "name": "stdout",
     "output_type": "stream",
     "text": [
      "15.09515191684477\n",
      "1.312029958004132\n",
      "Accuracy: 0.9485 with rank:10\n",
      "13.136472291778773\n",
      "1.3329438751097769\n",
      "Accuracy: 0.9493 with rank:11\n",
      "20.61709608300589\n",
      "4.870964749949053\n",
      "Accuracy: 0.9489 with rank:12\n",
      "14.35991929192096\n",
      "3.3846789579838514\n",
      "Accuracy: 0.9498 with rank:13\n",
      "15.935886457795277\n",
      "3.665656042052433\n",
      "Accuracy: 0.9509 with rank:14\n",
      "13.332040040986612\n",
      "8.875301541993394\n",
      "Accuracy: 0.9527 with rank:15\n",
      "15.24680733284913\n",
      "3.543832709081471\n",
      "Accuracy: 0.9524 with rank:16\n",
      "14.126399166183546\n",
      "4.319532500114292\n",
      "Accuracy: 0.9539 with rank:17\n",
      "23.62267425004393\n",
      "3.727035125019029\n",
      "Accuracy: 0.9556 with rank:18\n",
      "12.926196957938373\n",
      "4.6199087500572205\n",
      "Accuracy: 0.9563 with rank:19\n",
      "14.204543750034645\n",
      "3.848722541006282\n",
      "Accuracy: 0.9573 with rank:20\n",
      "13.496008000103757\n",
      "5.45731558278203\n",
      "Accuracy: 0.9573 with rank:21\n",
      "18.567520499927923\n",
      "6.038217541063204\n",
      "Accuracy: 0.9568 with rank:22\n",
      "25.017082625068724\n",
      "10.165595208993182\n",
      "Accuracy: 0.9585 with rank:23\n",
      "38.992822708096355\n",
      "9.170468667056412\n",
      "Accuracy: 0.9578 with rank:24\n",
      "28.849869458004832\n",
      "6.299535708036274\n",
      "Accuracy: 0.9576 with rank:25\n",
      "15.93828949984163\n",
      "5.102487583179027\n",
      "Accuracy: 0.9579 with rank:26\n",
      "16.978705833898857\n",
      "4.461202041013166\n",
      "Accuracy: 0.9568 with rank:27\n",
      "13.135128791211173\n",
      "4.607937457971275\n",
      "Accuracy: 0.9582 with rank:28\n",
      "17.47426720801741\n",
      "4.599862499861047\n",
      "Accuracy: 0.9582 with rank:29\n",
      "16.9483210418839\n",
      "5.152473124908283\n",
      "Accuracy: 0.9574 with rank:30\n",
      "14.234017542097718\n",
      "5.032270665979013\n",
      "Accuracy: 0.9572 with rank:31\n",
      "15.647752999793738\n",
      "6.106905749998987\n",
      "Accuracy: 0.9565 with rank:32\n",
      "22.78075729100965\n",
      "5.9668644168414176\n",
      "Accuracy: 0.9578 with rank:33\n",
      "13.521146290935576\n",
      "5.555820334004238\n",
      "Accuracy: 0.9574 with rank:34\n",
      "12.587146333884448\n",
      "5.188344959169626\n",
      "Accuracy: 0.9583 with rank:35\n",
      "13.39495816710405\n",
      "5.327400415902957\n",
      "Accuracy: 0.9574 with rank:36\n",
      "13.391163416905329\n",
      "5.904559290967882\n",
      "Accuracy: 0.9575 with rank:37\n",
      "12.180034667020664\n",
      "5.632523624924943\n",
      "Accuracy: 0.9572 with rank:38\n",
      "13.451119916047901\n",
      "4.907729750033468\n",
      "Accuracy: 0.9564 with rank:39\n"
     ]
    }
   ],
   "source": [
    "# Compute SVD for each digit\n",
    "def compute_svd_per_digit(images, labels, r):\n",
    "    svd_dict = {}\n",
    "    for digit in range(10):  # digits 0-9\n",
    "        class_images = images[labels == digit]  #Select images of this digit\n",
    "        U, Sigma, Vt = svd(class_images.T, full_matrices=False)\n",
    "        svd_dict[digit] = U[:, :r]  # Store top-r left singular vectors\n",
    "    return svd_dict\n",
    "\n",
    "# Project an image onto the subspace spanned by top-r left singular vectors\n",
    "def compute_residual(image, U_r):\n",
    "    \"\"\"Computes the residual of the SVD matrix, distance of the image to the subspace it is spanned on (with rank r)\"\"\"\n",
    "    projection = U_r @ (U_r.T @ image)\n",
    "    residual = np.linalg.norm(image - projection) / np.linalg.norm(image)\n",
    "    return residual\n",
    "\n",
    "# Classify an image using the smallest residual\n",
    "def classify_image(image, svd_dict):\n",
    "    ''''''\n",
    "    residuals = {digit: compute_residual(image, U_r) for digit, U_r in svd_dict.items()}\n",
    "    return min(residuals, key=residuals.get)  # Return digit with smallest residual\n",
    "\n",
    "# Prepare the dataset\n",
    "accuracy_list = []\n",
    "array_t1 = []\n",
    "array_t2 =[]\n",
    "for i in range (10,40):#Finding the optimum r\n",
    "\n",
    "    r = i  \n",
    "    X_train = train['x']  # Training images\n",
    "    y_train = train['y']  # Training labels\n",
    "\n",
    "    X_test = test['x']  # Test images\n",
    "    y_test = test['y']  # Test labels\n",
    "    \n",
    "# Compute SVD for each class, digits from 0-9\n",
    "    start_time_1 = time.perf_counter()\n",
    "    svd_dict = compute_svd_per_digit(X_train, y_train, r)\n",
    "    end_time_1 = time.perf_counter()\n",
    "    \n",
    "    time_1 = end_time_1 - start_time_1\n",
    "    array_t1.append(time_1)\n",
    "    print(time_1)\n",
    "# Classify test images\n",
    "    start_time_2 = time.perf_counter()\n",
    "    predictions = np.array([classify_image(image, svd_dict) for image in X_test])\n",
    "    accuracy = np.mean(predictions == y_test)\n",
    "    end_time_2 = time.perf_counter()\n",
    "    time_2 = end_time_2 - start_time_2\n",
    "    array_t2.append(time_2)\n",
    "    print(time_2)\n",
    "    \n",
    "    accuracy_list.append(accuracy)\n",
    "    \n",
    "    print(f\"Accuracy: {accuracy} with rank:{r}\")\n",
    "\n",
    "    \n",
    "    "
   ]
  },
  {
   "cell_type": "code",
   "execution_count": 221,
   "id": "e486e87d",
   "metadata": {},
   "outputs": [
    {
     "data": {
      "text/plain": [
       "Text(0, 0.5, 'Accuracy')"
      ]
     },
     "execution_count": 221,
     "metadata": {},
     "output_type": "execute_result"
    },
    {
     "data": {
      "image/png": "[encoded data removed]",
      "text/plain": [
       "<Figure size 640x480 with 1 Axes>"
      ]
     },
     "metadata": {},
     "output_type": "display_data"
    }
   ],
   "source": [
    "accuracy_list\n",
    "rank= []\n",
    "for r in range (10,40):\n",
    "    rank.append(r)\n",
    "\n",
    "x= np.array(rank)\n",
    "y= np.array(accuracy_list)\n",
    "plt.scatter(x, y, color='blue', alpha=0.5, s = 20,marker = 'x')\n",
    "plt.xlabel('Rank')\n",
    "plt.ylabel('Accuracy')\n"
   ]
  },
  {
   "cell_type": "code",
   "execution_count": 222,
   "id": "0a5f92ed",
   "metadata": {},
   "outputs": [],
   "source": [
    "accuracy_list.index(max(accuracy_list))\n",
    "index = accuracy_list.index(max(accuracy_list))+10"
   ]
  },
  {
   "cell_type": "code",
   "execution_count": 224,
   "id": "7b51c731",
   "metadata": {},
   "outputs": [
    {
     "data": {
      "text/plain": [
       "23"
      ]
     },
     "execution_count": 224,
     "metadata": {},
     "output_type": "execute_result"
    }
   ],
   "source": [
    "index"
   ]
  },
  {
   "cell_type": "code",
   "execution_count": 201,
   "id": "cdeeb6fd",
   "metadata": {},
   "outputs": [
    {
     "name": "stdout",
     "output_type": "stream",
     "text": [
      "Accuracy: 0.9485 with rank:10\n"
     ]
    }
   ],
   "source": [
    "r = 10  \n",
    "X_train = train['x']  # Training images\n",
    "y_train = train['y']  # Training labels\n",
    "\n",
    "X_test = test['x']  # Test images\n",
    "y_test = test['y']  # Test labels\n",
    "\n",
    "# Compute SVD for each class\n",
    "svd_dict = compute_svd_per_digit(X_train, y_train, r)\n",
    "\n",
    "# Classify test images\n",
    "predictions = np.array([classify_image(image, svd_dict) for image in X_test])\n",
    "accuracy = np.mean(predictions == y_test)\n",
    "accuracy_list.append(accuracy)\n",
    "print(f\"Accuracy: {accuracy} with rank:{r}\")"
   ]
  },
  {
   "cell_type": "code",
   "execution_count": null,
   "id": "c04c7428",
   "metadata": {},
   "outputs": [],
   "source": []
  }
 ],
 "metadata": {
  "kernelspec": {
   "display_name": "Python 3 (ipykernel)",
   "language": "python",
   "name": "python3"
  },
  "language_info": {
   "codemirror_mode": {
    "name": "ipython",
    "version": 3
   },
   "file_extension": ".py",
   "mimetype": "text/x-python",
   "name": "python",
   "nbconvert_exporter": "python",
   "pygments_lexer": "ipython3",
   "version": "3.11.5"
  }
 },
 "nbformat": 4,
 "nbformat_minor": 5
}
