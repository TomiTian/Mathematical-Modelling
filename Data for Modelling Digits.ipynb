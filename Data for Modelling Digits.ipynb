{
 "cells": [
  {
   "cell_type": "code",
   "execution_count": 7,
   "id": "7e7babc8-4d57-4742-a458-87fc94aace16",
   "metadata": {
    "tags": []
   },
   "outputs": [
    {
     "data": {
      "image/png": "[encoded data removed]",
      "text/plain": [
       "<Figure size 640x480 with 1 Axes>"
      ]
     },
     "metadata": {},
     "output_type": "display_data"
    }
   ],
   "source": [
    "import numpy as np\n",
    "import struct\n",
    "import matplotlib.pyplot as plt\n",
    "\n",
    "# Load images from the MNIST dataset\n",
    "def load_image_file(filename):\n",
    "    with open(filename, 'rb') as f:\n",
    "        # Skip the magic number and number of images\n",
    "        _, num_images = struct.unpack(\">II\", f.read(8))\n",
    "        rows, cols = struct.unpack(\">II\", f.read(8))  # Image dimensions\n",
    "        # Read image data and reshape into (num_images, rows*cols)\n",
    "        images = np.frombuffer(f.read(), dtype=np.uint8).reshape(num_images, rows * cols)\n",
    "    return {'n': num_images, 'x': images}\n",
    "\n",
    "# Load labels from the MNIST dataset\n",
    "def load_label_file(filename):\n",
    "    with open(filename, 'rb') as f:\n",
    "        # Skip the magic number and number of labels\n",
    "        _, num_labels = struct.unpack(\">II\", f.read(8))\n",
    "        # Read label data\n",
    "        labels = np.frombuffer(f.read(), dtype=np.uint8)\n",
    "    return labels\n",
    "\n",
    "# Load training and test datasets\n",
    "def load_mnist():\n",
    "    train = load_image_file('mnist/train-images-idx3-ubyte')\n",
    "    test = load_image_file('mnist/t10k-images-idx3-ubyte')\n",
    "    \n",
    "    train['y'] = load_label_file('mnist/train-labels-idx1-ubyte')\n",
    "    test['y'] = load_label_file('mnist/t10k-labels-idx1-ubyte')\n",
    "    \n",
    "    return train, test\n",
    "\n",
    "# Display an MNIST digit image\n",
    "def show_digit(arr784):\n",
    "    plt.imshow(arr784.reshape(28, 28), cmap='gray')\n",
    "    plt.axis('off')  # Hide axes for cleaner display\n",
    "    plt.show()\n",
    "\n",
    "# Load MNIST data\n",
    "train, test = load_mnist()\n",
    "\n",
    "# Display an example image (e.g., the 5th training image)\n",
    "show_digit(train['x'][5])\n"
   ]
  },
  {
   "cell_type": "code",
   "execution_count": null,
   "id": "7a42c088-1721-4b20-867d-04ec1a64f690",
   "metadata": {},
   "outputs": [],
   "source": []
  }
 ],
 "metadata": {
  "kernelspec": {
   "display_name": "Python 3 (ipykernel)",
   "language": "python",
   "name": "python3"
  },
  "language_info": {
   "codemirror_mode": {
    "name": "ipython",
    "version": 3
   },
   "file_extension": ".py",
   "mimetype": "text/x-python",
   "name": "python",
   "nbconvert_exporter": "python",
   "pygments_lexer": "ipython3",
   "version": "3.11.5"
  }
 },
 "nbformat": 4,
 "nbformat_minor": 5
}
