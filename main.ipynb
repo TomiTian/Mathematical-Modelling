{
 "cells": [
  {
   "cell_type": "markdown",
   "metadata": {},
   "source": [
    "# Setup and config"
   ]
  },
  {
   "cell_type": "code",
   "execution_count": 9,
   "metadata": {},
   "outputs": [],
   "source": [
    "# Imports and setup\n",
    "from CNN.backend import load_or_train_CNN\n",
    "from CNN.plotting import plot_confusion_matrix, plot_loss\n",
    "from pathlib import Path\n",
    "\n",
    "import argparse\n",
    "import torch\n",
    "import torch.nn as nn\n",
    "import torch.nn.functional as F\n",
    "import torch.optim as optim\n",
    "from torchvision import datasets, transforms\n",
    "from torch.optim.lr_scheduler import StepLR\n",
    "\n",
    "import numpy as np\n",
    "from sklearn.metrics import confusion_matrix, ConfusionMatrixDisplay\n",
    "import matplotlib.pyplot as plt\n",
    "\n",
    "from pathlib import Path"
   ]
  },
  {
   "cell_type": "code",
   "execution_count": 10,
   "metadata": {},
   "outputs": [
    {
     "name": "stdout",
     "output_type": "stream",
     "text": [
      "e:\\OneDrive - TU Eindhoven\\_doing_2WH30_Mathematical Modelling\\REPO\\Mathematical-Modelling\\data\n"
     ]
    }
   ],
   "source": [
    "# Set pathing correctly\n",
    "path_download = Path.cwd() / 'data'\n",
    "\n",
    "print(path_download)\n",
    "\n",
    "\n",
    "path_raw_data = Path.cwd() / 'data'/ 'MNIST' / 'raw'\n",
    "path_CNN_results = Path.cwd() / 'CNN' / 'results'"
   ]
  },
  {
   "cell_type": "code",
   "execution_count": 11,
   "metadata": {},
   "outputs": [],
   "source": [
    "# Download data if not already present (pytorch implementation)\n",
    "# Put in data folder earlier described\n",
    "# d1 and d2 are dummy variables besides that!\n",
    "d1 = datasets.MNIST(path_download, train=True, download=True)\n",
    "d2 = datasets.MNIST(path_download, train=False)"
   ]
  },
  {
   "cell_type": "markdown",
   "metadata": {},
   "source": [
    "# CNN"
   ]
  },
  {
   "cell_type": "code",
   "execution_count": null,
   "metadata": {},
   "outputs": [],
   "source": [
    "# Load / Define model / Set up settings for the model. "
   ]
  },
  {
   "cell_type": "code",
   "execution_count": null,
   "metadata": {},
   "outputs": [],
   "source": [
    "# Show architecture"
   ]
  },
  {
   "cell_type": "code",
   "execution_count": null,
   "metadata": {},
   "outputs": [],
   "source": [
    "# Load or train the model\n",
    "results:dict = load_or_train_CNN()"
   ]
  },
  {
   "cell_type": "code",
   "execution_count": null,
   "metadata": {},
   "outputs": [],
   "source": [
    "# Plot losses\n",
    "plot_loss(results=results, save_folder= path_CNN_results, show=True)"
   ]
  },
  {
   "cell_type": "code",
   "execution_count": null,
   "metadata": {},
   "outputs": [],
   "source": [
    "# Plot confusion matrices of the last epoch\n",
    "max_epoch = results[\"epochs\"]\n",
    "plot_confusion_matrix(results=results, epoch=max_epoch, save_folder=path_CNN_results, show=True)"
   ]
  },
  {
   "cell_type": "markdown",
   "metadata": {},
   "source": [
    "# KNN"
   ]
  },
  {
   "cell_type": "markdown",
   "metadata": {},
   "source": [
    "# SVD"
   ]
  }
 ],
 "metadata": {
  "kernelspec": {
   "display_name": "Python 3",
   "language": "python",
   "name": "python3"
  },
  "language_info": {
   "codemirror_mode": {
    "name": "ipython",
    "version": 3
   },
   "file_extension": ".py",
   "mimetype": "text/x-python",
   "name": "python",
   "nbconvert_exporter": "python",
   "pygments_lexer": "ipython3",
   "version": "3.9.10"
  }
 },
 "nbformat": 4,
 "nbformat_minor": 2
}
